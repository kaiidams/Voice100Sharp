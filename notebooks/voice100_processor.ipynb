{
 "cells": [
  {
   "cell_type": "code",
   "execution_count": null,
   "metadata": {},
   "outputs": [],
   "source": [
    "#r \"nuget:Voice100\"\n",
    "#r \"nuget:Voice100.Native\"\n",
    "#r \"nuget:Microsoft.ML.OnnxRuntime\"\n",
    "#r \"nuget:Voice100.Interactive, 0.2.4-dev\"\n",
    "#r \"nuget:XPlot.Plotly.Interactive\""
   ]
  },
  {
   "cell_type": "code",
   "execution_count": null,
   "metadata": {},
   "outputs": [],
   "source": [
    "using System.Net.Http;\n",
    "using Voice100;\n",
    "using Voice100.Interactive;\n",
    "using XPlot.Plotly;"
   ]
  },
  {
   "cell_type": "code",
   "execution_count": null,
   "metadata": {},
   "outputs": [],
   "source": [
    "string filePath = @\"./test_data/61-70968-0000.wav\";"
   ]
  },
  {
   "cell_type": "code",
   "execution_count": null,
   "metadata": {},
   "outputs": [],
   "source": [
    "var waveform = WaveFile.ReadWAV(filePath, 16000);"
   ]
  },
  {
   "cell_type": "code",
   "execution_count": null,
   "metadata": {},
   "outputs": [],
   "source": [
    "new Audio(waveform, 16000)"
   ]
  },
  {
   "cell_type": "code",
   "execution_count": null,
   "metadata": {},
   "outputs": [],
   "source": [
    "var chart1 = Chart.Plot(\n",
    "    new Scattergl\n",
    "    {\n",
    "        x = Enumerable.Range(0, waveform.Length).Select(x => (double)x / 16000),\n",
    "        y = waveform.Select(y => (double)y / short.MaxValue),\n",
    "        mode = \"lines\"\n",
    "    }\n",
    ");\n",
    "var chart1_layout = new Layout.Layout{\n",
    "    title=\"Waveform\",\n",
    "    xaxis =new Xaxis{\n",
    "        title = \"Time (seconds)\"\n",
    "        },\n",
    "    yaxis =new Yaxis{\n",
    "    title = \"Amplitude\"\n",
    "        }           \n",
    "    };\n",
    "chart1.WithLayout(chart1_layout);\n",
    "chart1"
   ]
  },
  {
   "cell_type": "code",
   "execution_count": null,
   "metadata": {},
   "outputs": [],
   "source": [
    "var processor = new AudioProcessor();\n",
    "var x = processor.MelSpectrogram(waveform);\n",
    "var spectrogram = new float[128, x.Length / 128];\n",
    "for (int i = 0; i < x.Length / 128; i++)\n",
    "{\n",
    "    for (int j = 0; j < 128; j++)\n",
    "    {\n",
    "        spectrogram[j, i] = x[i * 128 + j];\n",
    "    }\n",
    "}  "
   ]
  },
  {
   "cell_type": "code",
   "execution_count": null,
   "metadata": {},
   "outputs": [],
   "source": [
    "var chart1 = Chart.Plot(\n",
    "    new Heatmap\n",
    "    {\n",
    "        x = Enumerable.Range(0, waveform.Length).Select(x => 512 * (double)x / 16000),\n",
    "        z = spectrogram,\n",
    "    }\n",
    ");\n",
    "var chart1_layout = new Layout.Layout{\n",
    "    title=\"Mel-Spectrogram\",\n",
    "    xaxis =new Xaxis{\n",
    "        title = \"Time (seconds)\"\n",
    "        },\n",
    "    yaxis =new Yaxis{\n",
    "    title = \"Mel Frequency\"\n",
    "        }           \n",
    "    };\n",
    "chart1.WithLayout(chart1_layout);\n",
    "chart1"
   ]
  }
 ],
 "metadata": {
  "interpreter": {
   "hash": "33c8902ea66787e6c1df8f699628d6bfdbcf42056a6c06104df6f50c31d7d27d"
  },
  "kernelspec": {
   "display_name": ".NET (C#)",
   "language": "C#",
   "name": ".net-csharp"
  },
  "language_info": {
   "file_extension": ".cs",
   "mimetype": "text/x-csharp",
   "name": "C#",
   "pygments_lexer": "csharp",
   "version": "9.0"
  }
 },
 "nbformat": 4,
 "nbformat_minor": 4
}
