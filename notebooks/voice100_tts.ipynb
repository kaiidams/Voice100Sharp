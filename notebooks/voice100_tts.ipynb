{
 "cells": [
  {
   "cell_type": "code",
   "execution_count": null,
   "metadata": {},
   "outputs": [],
   "source": [
    "#r \"nuget:Voice100\"\n",
    "#r \"nuget:Voice100.Native\"\n",
    "#r \"nuget:Microsoft.ML.OnnxRuntime\"\n",
    "#r \"nuget:Voice100.Interactive, 0.2.3-dev\""
   ]
  },
  {
   "cell_type": "code",
   "execution_count": null,
   "metadata": {},
   "outputs": [],
   "source": [
    "using System.Net.Http;\n",
    "using Voice100;\n",
    "using Voice100.Interactive;"
   ]
  },
  {
   "cell_type": "code",
   "execution_count": null,
   "metadata": {},
   "outputs": [],
   "source": [
    "string cacheDirectoryPath = \"./Cache\";\n",
    "bool useMultiTaskTTS = true;"
   ]
  },
  {
   "cell_type": "code",
   "execution_count": null,
   "metadata": {},
   "outputs": [],
   "source": [
    "async Task<SpeechSynthesizer> BuildSpeechSynthesizerAsync(bool useMultiTaskTTS)\n",
    "{\n",
    "    string alignModelPath;\n",
    "    string audioModelPath;\n",
    "    using (var httpClient = new HttpClient())\n",
    "    {\n",
    "        var downloader = new ModelDownloader(httpClient, cacheDirectoryPath);\n",
    "        alignModelPath = await downloader.MayDownloadAsync(\n",
    "            \"ttsalign_en_conv_base-20210808.onnx\",\n",
    "            \"https://github.com/kaiidams/voice100-runtime/releases/download/v0.1/ttsalign_en_conv_base-20210808.onnx\",\n",
    "            \"D87B80B2C9CC96AC7A4C89C979C62FA3C18BACB381C3C1A3F624A33496DD1FC8\");\n",
    "        if (useMultiTaskTTS)\n",
    "        {\n",
    "            audioModelPath = await downloader.MayDownloadAsync(\n",
    "                \"ttsaudio_en_mt_conv_base-20220316.onnx\",\n",
    "                \"https://github.com/kaiidams/voice100-runtime/releases/download/v1.2.0/ttsaudio_en_mt_conv_base-20220316.onnx\",\n",
    "                \"5d0f426509bb662deab3ca9cf964f68dbaf2a30b55e653205c98eaad63978468\");\n",
    "        }\n",
    "        else\n",
    "        {\n",
    "            audioModelPath = await downloader.MayDownloadAsync(\n",
    "                \"ttsaudio_en_conv_base-20220107.onnx\",\n",
    "                \"https://github.com/kaiidams/voice100-runtime/releases/download/v1.0.1/ttsaudio_en_conv_base-20220107.onnx\",\n",
    "                \"A20FEC366D1A4856006BBF7CFAC7D989EF02B0C1AF676C0B5E6F318751325A2F\");\n",
    "        }\n",
    "    }\n",
    "    return new SpeechSynthesizer(alignModelPath, audioModelPath, useMultiTaskTTS);\n",
    "}"
   ]
  },
  {
   "cell_type": "code",
   "execution_count": null,
   "metadata": {},
   "outputs": [],
   "source": [
    "var synthesizer = await BuildSpeechSynthesizerAsync(useMultiTaskTTS);"
   ]
  },
  {
   "cell_type": "code",
   "execution_count": null,
   "metadata": {},
   "outputs": [],
   "source": [
    "string text = \"beginnings are apt to be determinative and when reinforced by continuous applications of similar influence\";\n",
    "short[] waveform;\n",
    "string[] phonemes;\n",
    "synthesizer.Speak(text, out waveform, out phonemes);"
   ]
  },
  {
   "cell_type": "code",
   "execution_count": null,
   "metadata": {},
   "outputs": [],
   "source": [
    "display(string.Join(\"/\", phonemes));"
   ]
  },
  {
   "cell_type": "code",
   "execution_count": null,
   "metadata": {},
   "outputs": [],
   "source": [
    "new Audio(waveform, 16000)"
   ]
  }
 ],
 "metadata": {
  "interpreter": {
   "hash": "33c8902ea66787e6c1df8f699628d6bfdbcf42056a6c06104df6f50c31d7d27d"
  },
  "kernelspec": {
   "display_name": ".NET (C#)",
   "language": "C#",
   "name": ".net-csharp"
  },
  "language_info": {
   "file_extension": ".cs",
   "mimetype": "text/x-csharp",
   "name": "C#",
   "pygments_lexer": "csharp",
   "version": "9.0"
  }
 },
 "nbformat": 4,
 "nbformat_minor": 4
}
