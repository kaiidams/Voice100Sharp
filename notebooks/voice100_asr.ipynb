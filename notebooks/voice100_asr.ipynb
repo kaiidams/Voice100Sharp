{
 "cells": [
  {
   "cell_type": "code",
   "execution_count": null,
   "metadata": {},
   "outputs": [],
   "source": [
    "#r \"nuget:Voice100\"\n",
    "#r \"nuget:Voice100.Native\"\n",
    "#r \"nuget:Microsoft.ML.OnnxRuntime\"\n",
    "#r \"nuget:Voice100.Interactive, 0.2.2-dev\""
   ]
  },
  {
   "cell_type": "code",
   "execution_count": null,
   "metadata": {},
   "outputs": [],
   "source": [
    "using System.Net.Http;\n",
    "using Voice100;\n",
    "using Voice100.Interactive;"
   ]
  },
  {
   "cell_type": "code",
   "execution_count": null,
   "metadata": {},
   "outputs": [],
   "source": [
    "string cacheDirectoryPath = \"./Cache\";\n",
    "string model = \"voice100\";"
   ]
  },
  {
   "cell_type": "code",
   "execution_count": null,
   "metadata": {},
   "outputs": [],
   "source": [
    "async Task<ISpeechRecognizer> BuildSpeechRecognizerAsync(string model)\n",
    "{\n",
    "    ISpeechRecognizer recognizer;\n",
    "\n",
    "    if (model == \"voice100\")\n",
    "    {\n",
    "        string modelPath;\n",
    "        using (var httpClient = new HttpClient())\n",
    "        {\n",
    "            var downloader = new ModelDownloader(httpClient, cacheDirectoryPath);\n",
    "            modelPath = await downloader.MayDownloadAsync(\n",
    "                \"asr_en_conv_base_ctc-20220126.onnx\",\n",
    "                \"https://github.com/kaiidams/voice100-runtime/releases/download/v1.1.1/asr_en_conv_base_ctc-20220126.onnx\",\n",
    "                \"92801E1E4927F345522706A553E86EEBD1E347651620FC6D69BFA30AB4104B86\");\n",
    "        }\n",
    "        recognizer = new Voice100SpeechRecognizer(modelPath);\n",
    "    }\n",
    "    else if (model == \"QuartzNet15x5Base-En\")\n",
    "    {\n",
    "        string modelPath;\n",
    "        using (var httpClient = new HttpClient())\n",
    "        {\n",
    "            var downloader = new ModelDownloader(httpClient, cacheDirectoryPath);\n",
    "            modelPath = await downloader.MayDownloadAsync(\n",
    "                \"QuartzNet15x5Base-En.onnx\",\n",
    "                \"https://github.com/kaiidams/NeMoOnnxSharp/releases/download/v1.1.0.pre1/QuartzNet15x5Base-En.onnx\",\n",
    "                \"EE1B72102FD0C5422D088E80F929DBDEE7E889D256A4CE1E412CD49916823695\");\n",
    "        }\n",
    "        recognizer = new NeMoSpeechRecognizer(modelPath);\n",
    "    }\n",
    "    else\n",
    "    {\n",
    "        throw new ArgumentException();\n",
    "    }\n",
    "\n",
    "    return recognizer;\n",
    "}"
   ]
  },
  {
   "cell_type": "code",
   "execution_count": null,
   "metadata": {},
   "outputs": [],
   "source": [
    "var recognizer = await BuildSpeechRecognizerAsync(model);"
   ]
  },
  {
   "cell_type": "code",
   "execution_count": null,
   "metadata": {},
   "outputs": [],
   "source": [
    "string filePath = @\"..\\test_data\\61-70968-0000.wav\";"
   ]
  },
  {
   "cell_type": "code",
   "execution_count": null,
   "metadata": {},
   "outputs": [],
   "source": [
    "var waveform = WaveFile.ReadWAV(filePath, 16000);"
   ]
  },
  {
   "cell_type": "code",
   "execution_count": null,
   "metadata": {},
   "outputs": [],
   "source": [
    "new Audio(waveform, 16000)"
   ]
  },
  {
   "cell_type": "code",
   "execution_count": null,
   "metadata": {},
   "outputs": [],
   "source": [
    "var text = recognizer.Recognize(waveform);\n",
    "display(text);"
   ]
  }
 ],
 "metadata": {
  "interpreter": {
   "hash": "33c8902ea66787e6c1df8f699628d6bfdbcf42056a6c06104df6f50c31d7d27d"
  },
  "kernelspec": {
   "display_name": ".NET (C#)",
   "language": "C#",
   "name": ".net-csharp"
  },
  "language_info": {
   "file_extension": ".cs",
   "mimetype": "text/x-csharp",
   "name": "C#",
   "pygments_lexer": "csharp",
   "version": "9.0"
  }
 },
 "nbformat": 4,
 "nbformat_minor": 4
}
