{
 "cells": [
  {
   "cell_type": "code",
   "execution_count": 1,
   "metadata": {},
   "outputs": [
    {
     "data": {
      "text/html": [
       "\r\n",
       "<div>\r\n",
       "    <div id='dotnet-interactive-this-cell-394.Microsoft.DotNet.Interactive.Http.HttpPort' style='display: none'>\r\n",
       "        The below script needs to be able to find the current output cell; this is an easy method to get it.\r\n",
       "    </div>\r\n",
       "    <script type='text/javascript'>\r\n",
       "async function probeAddresses(probingAddresses) {\r\n",
       "    function timeout(ms, promise) {\r\n",
       "        return new Promise(function (resolve, reject) {\r\n",
       "            setTimeout(function () {\r\n",
       "                reject(new Error('timeout'))\r\n",
       "            }, ms)\r\n",
       "            promise.then(resolve, reject)\r\n",
       "        })\r\n",
       "    }\r\n",
       "\r\n",
       "    if (Array.isArray(probingAddresses)) {\r\n",
       "        for (let i = 0; i < probingAddresses.length; i++) {\r\n",
       "\r\n",
       "            let rootUrl = probingAddresses[i];\r\n",
       "\r\n",
       "            if (!rootUrl.endsWith('/')) {\r\n",
       "                rootUrl = `${rootUrl}/`;\r\n",
       "            }\r\n",
       "\r\n",
       "            try {\r\n",
       "                let response = await timeout(1000, fetch(`${rootUrl}discovery`, {\r\n",
       "                    method: 'POST',\r\n",
       "                    cache: 'no-cache',\r\n",
       "                    mode: 'cors',\r\n",
       "                    timeout: 1000,\r\n",
       "                    headers: {\r\n",
       "                        'Content-Type': 'text/plain'\r\n",
       "                    },\r\n",
       "                    body: probingAddresses[i]\r\n",
       "                }));\r\n",
       "\r\n",
       "                if (response.status == 200) {\r\n",
       "                    return rootUrl;\r\n",
       "                }\r\n",
       "            }\r\n",
       "            catch (e) { }\r\n",
       "        }\r\n",
       "    }\r\n",
       "}\r\n",
       "\r\n",
       "function loadDotnetInteractiveApi() {\r\n",
       "    probeAddresses([\"http://10.244.95.165:1025/\", \"http://127.0.0.1:1025/\"])\r\n",
       "        .then((root) => {\r\n",
       "        // use probing to find host url and api resources\r\n",
       "        // load interactive helpers and language services\r\n",
       "        let dotnetInteractiveRequire = require.config({\r\n",
       "        context: '394.Microsoft.DotNet.Interactive.Http.HttpPort',\r\n",
       "                paths:\r\n",
       "            {\r\n",
       "                'dotnet-interactive': `${root}resources`\r\n",
       "                }\r\n",
       "        }) || require;\r\n",
       "\r\n",
       "            window.dotnetInteractiveRequire = dotnetInteractiveRequire;\r\n",
       "\r\n",
       "            window.configureRequireFromExtension = function(extensionName, extensionCacheBuster) {\r\n",
       "                let paths = {};\r\n",
       "                paths[extensionName] = `${root}extensions/${extensionName}/resources/`;\r\n",
       "                \r\n",
       "                let internalRequire = require.config({\r\n",
       "                    context: extensionCacheBuster,\r\n",
       "                    paths: paths,\r\n",
       "                    urlArgs: `cacheBuster=${extensionCacheBuster}`\r\n",
       "                    }) || require;\r\n",
       "\r\n",
       "                return internalRequire\r\n",
       "            };\r\n",
       "        \r\n",
       "            dotnetInteractiveRequire([\r\n",
       "                    'dotnet-interactive/dotnet-interactive'\r\n",
       "                ],\r\n",
       "                function (dotnet) {\r\n",
       "                    dotnet.init(window);\r\n",
       "                },\r\n",
       "                function (error) {\r\n",
       "                    console.log(error);\r\n",
       "                }\r\n",
       "            );\r\n",
       "        })\r\n",
       "        .catch(error => {console.log(error);});\r\n",
       "    }\r\n",
       "\r\n",
       "// ensure `require` is available globally\r\n",
       "if ((typeof(require) !==  typeof(Function)) || (typeof(require.config) !== typeof(Function))) {\r\n",
       "    let require_script = document.createElement('script');\r\n",
       "    require_script.setAttribute('src', 'https://cdnjs.cloudflare.com/ajax/libs/require.js/2.3.6/require.min.js');\r\n",
       "    require_script.setAttribute('type', 'text/javascript');\r\n",
       "    \r\n",
       "    \r\n",
       "    require_script.onload = function() {\r\n",
       "        loadDotnetInteractiveApi();\r\n",
       "    };\r\n",
       "\r\n",
       "    document.getElementsByTagName('head')[0].appendChild(require_script);\r\n",
       "}\r\n",
       "else {\r\n",
       "    loadDotnetInteractiveApi();\r\n",
       "}\r\n",
       "\r\n",
       "    </script>\r\n",
       "</div>"
      ]
     },
     "metadata": {},
     "output_type": "display_data"
    },
    {
     "data": {
      "text/html": [
       "<div><div></div><div></div><div><strong>Installed Packages</strong><ul><li><span>Microsoft.ML.OnnxRuntime, 1.11.0</span></li><li><span>Voice100, 1.2.1</span></li></ul></div></div>"
      ]
     },
     "metadata": {},
     "output_type": "display_data"
    }
   ],
   "source": [
    "#r \"nuget:Voice100\"\n",
    "#r \"nuget:Voice100.Native\"\n",
    "#r \"nuget:Microsoft.ML.OnnxRuntime\""
   ]
  },
  {
   "cell_type": "code",
   "execution_count": 2,
   "metadata": {},
   "outputs": [],
   "source": [
    "using System.Net.Http;\n",
    "using Voice100;"
   ]
  },
  {
   "cell_type": "code",
   "execution_count": 3,
   "metadata": {},
   "outputs": [],
   "source": [
    "string cacheDirectoryPath = \"./cache\";\n",
    "bool useMultiTaskTTS = true;"
   ]
  },
  {
   "cell_type": "code",
   "execution_count": 4,
   "metadata": {},
   "outputs": [],
   "source": [
    "async Task<SpeechSynthesizer> BuildSpeechSynthesizerAsync(bool useMultiTaskTTS)\n",
    "{\n",
    "    string alignModelPath;\n",
    "    string audioModelPath;\n",
    "    using (var httpClient = new HttpClient())\n",
    "    {\n",
    "        var downloader = new ModelDownloader(httpClient, cacheDirectoryPath);\n",
    "        alignModelPath = await downloader.MayDownloadAsync(\n",
    "            \"ttsalign_en_conv_base-20210808.onnx\",\n",
    "            \"https://github.com/kaiidams/voice100-runtime/releases/download/v0.1/ttsalign_en_conv_base-20210808.onnx\",\n",
    "            \"D87B80B2C9CC96AC7A4C89C979C62FA3C18BACB381C3C1A3F624A33496DD1FC8\");\n",
    "        if (useMultiTaskTTS)\n",
    "        {\n",
    "            audioModelPath = await downloader.MayDownloadAsync(\n",
    "                \"ttsaudio_en_mt_conv_base-20220316.onnx\",\n",
    "                \"https://github.com/kaiidams/voice100-runtime/releases/download/v1.2.0/ttsaudio_en_mt_conv_base-20220316.onnx\",\n",
    "                \"5d0f426509bb662deab3ca9cf964f68dbaf2a30b55e653205c98eaad63978468\");\n",
    "        }\n",
    "        else\n",
    "        {\n",
    "            audioModelPath = await downloader.MayDownloadAsync(\n",
    "                \"ttsaudio_en_conv_base-20220107.onnx\",\n",
    "                \"https://github.com/kaiidams/voice100-runtime/releases/download/v1.0.1/ttsaudio_en_conv_base-20220107.onnx\",\n",
    "                \"A20FEC366D1A4856006BBF7CFAC7D989EF02B0C1AF676C0B5E6F318751325A2F\");\n",
    "        }\n",
    "    }\n",
    "    return new SpeechSynthesizer(alignModelPath, audioModelPath, useMultiTaskTTS);\n",
    "}"
   ]
  },
  {
   "cell_type": "code",
   "execution_count": 5,
   "metadata": {},
   "outputs": [
    {
     "name": "stdout",
     "output_type": "stream",
     "text": [
      "Using cached `ttsalign_en_conv_base-20210808.onnx'.\n",
      "Using cached `ttsaudio_en_mt_conv_base-20220316.onnx'.\n"
     ]
    }
   ],
   "source": [
    "var synthesizer = await BuildSpeechSynthesizerAsync(useMultiTaskTTS);"
   ]
  },
  {
   "cell_type": "code",
   "execution_count": 6,
   "metadata": {},
   "outputs": [
    {
     "ename": "Unhandled exception",
     "evalue": "System.DllNotFoundException: Unable to load shared library 'voice100_native' or one of its dependencies. In order to help diagnose loading problems, consider setting the LD_DEBUG environment variable: libvoice100_native: cannot open shared object file: No such file or directory\n   at Voice100.WORLDVocoder.Voice100Sharp_VocoderDecode(Single[] f0, Single[] logspc, Single[] codedap, Int32 f0_length, Int32 fft_size, Double frame_period, Int32 fs, Single log_offset, Int16[] y, Int32 y_length)\n   at Voice100.WORLDVocoder.Decode(Single[] f0, Single[] logspc, Single[] codeap)\n   at Voice100.SpeechSynthesizer.Predict(Int64[] aligned)\n   at Voice100.SpeechSynthesizer.Speak(String text, Int16[]& audio)\n   at Voice100.SpeechSynthesizer.Speak(String text)\n   at Submission#7.<<Initialize>>d__0.MoveNext()\n--- End of stack trace from previous location ---\n   at Microsoft.CodeAnalysis.Scripting.ScriptExecutionState.RunSubmissionsAsync[TResult](ImmutableArray`1 precedingExecutors, Func`2 currentExecutor, StrongBox`1 exceptionHolderOpt, Func`2 catchExceptionOpt, CancellationToken cancellationToken)",
     "output_type": "error",
     "traceback": [
      "System.DllNotFoundException: Unable to load shared library 'voice100_native' or one of its dependencies. In order to help diagnose loading problems, consider setting the LD_DEBUG environment variable: libvoice100_native: cannot open shared object file: No such file or directory\n   at Voice100.WORLDVocoder.Voice100Sharp_VocoderDecode(Single[] f0, Single[] logspc, Single[] codedap, Int32 f0_length, Int32 fft_size, Double frame_period, Int32 fs, Single log_offset, Int16[] y, Int32 y_length)\n   at Voice100.WORLDVocoder.Decode(Single[] f0, Single[] logspc, Single[] codeap)\n   at Voice100.SpeechSynthesizer.Predict(Int64[] aligned)\n   at Voice100.SpeechSynthesizer.Speak(String text, Int16[]& audio)\n   at Voice100.SpeechSynthesizer.Speak(String text)\n   at Submission#7.<<Initialize>>d__0.MoveNext()\n--- End of stack trace from previous location ---\n   at Microsoft.CodeAnalysis.Scripting.ScriptExecutionState.RunSubmissionsAsync[TResult](ImmutableArray`1 precedingExecutors, Func`2 currentExecutor, StrongBox`1 exceptionHolderOpt, Func`2 catchExceptionOpt, CancellationToken cancellationToken)",
      "   at Voice100.WORLDVocoder.Voice100Sharp_VocoderDecode(Single[] f0, Single[] logspc, Single[] codedap, Int32 f0_length, Int32 fft_size, Double frame_period, Int32 fs, Single log_offset, Int16[] y, Int32 y_length)",
      "   at Voice100.WORLDVocoder.Decode(Single[] f0, Single[] logspc, Single[] codeap)",
      "   at Voice100.SpeechSynthesizer.Predict(Int64[] aligned)",
      "   at Voice100.SpeechSynthesizer.Speak(String text, Int16[]& audio)",
      "   at Voice100.SpeechSynthesizer.Speak(String text)",
      "   at Submission#7.<<Initialize>>d__0.MoveNext()",
      "--- End of stack trace from previous location ---",
      "   at Microsoft.CodeAnalysis.Scripting.ScriptExecutionState.RunSubmissionsAsync[TResult](ImmutableArray`1 precedingExecutors, Func`2 currentExecutor, StrongBox`1 exceptionHolderOpt, Func`2 catchExceptionOpt, CancellationToken cancellationToken)"
     ]
    }
   ],
   "source": [
    "synthesizer.Speak(\"hello\");"
   ]
  }
 ],
 "metadata": {
  "interpreter": {
   "hash": "33c8902ea66787e6c1df8f699628d6bfdbcf42056a6c06104df6f50c31d7d27d"
  },
  "kernelspec": {
   "display_name": ".NET (C#)",
   "language": "python",
   "name": "python3"
  },
  "language_info": {
   "file_extension": ".cs",
   "mimetype": "text/x-csharp",
   "name": "python",
   "pygments_lexer": "csharp",
   "version": "3.9.7"
  }
 },
 "nbformat": 4,
 "nbformat_minor": 4
}
